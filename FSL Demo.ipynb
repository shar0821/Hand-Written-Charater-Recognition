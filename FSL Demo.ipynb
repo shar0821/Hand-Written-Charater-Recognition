{
  "nbformat": 4,
  "nbformat_minor": 0,
  "metadata": {
    "colab": {
      "provenance": []
    },
    "kernelspec": {
      "name": "python3",
      "display_name": "Python 3"
    },
    "language_info": {
      "name": "python"
    },
    "accelerator": "GPU"
  },
  "cells": [
    {
      "cell_type": "code",
      "execution_count": null,
      "metadata": {
        "colab": {
          "base_uri": "https://localhost:8080/"
        },
        "id": "sAkF1v6MsyiD",
        "outputId": "c66fb616-f5be-4418-ea48-551cf8cb0581"
      },
      "outputs": [
        {
          "output_type": "stream",
          "name": "stdout",
          "text": [
            "Requirement already satisfied: kaggle in /usr/local/lib/python3.7/dist-packages (1.5.12)\n",
            "Requirement already satisfied: urllib3 in /usr/local/lib/python3.7/dist-packages (from kaggle) (1.24.3)\n",
            "Requirement already satisfied: requests in /usr/local/lib/python3.7/dist-packages (from kaggle) (2.23.0)\n",
            "Requirement already satisfied: tqdm in /usr/local/lib/python3.7/dist-packages (from kaggle) (4.64.0)\n",
            "Requirement already satisfied: python-slugify in /usr/local/lib/python3.7/dist-packages (from kaggle) (6.1.2)\n",
            "Requirement already satisfied: python-dateutil in /usr/local/lib/python3.7/dist-packages (from kaggle) (2.8.2)\n",
            "Requirement already satisfied: six>=1.10 in /usr/local/lib/python3.7/dist-packages (from kaggle) (1.15.0)\n",
            "Requirement already satisfied: certifi in /usr/local/lib/python3.7/dist-packages (from kaggle) (2021.10.8)\n",
            "Requirement already satisfied: text-unidecode>=1.3 in /usr/local/lib/python3.7/dist-packages (from python-slugify->kaggle) (1.3)\n",
            "Requirement already satisfied: chardet<4,>=3.0.2 in /usr/local/lib/python3.7/dist-packages (from requests->kaggle) (3.0.4)\n",
            "Requirement already satisfied: idna<3,>=2.5 in /usr/local/lib/python3.7/dist-packages (from requests->kaggle) (2.10)\n"
          ]
        }
      ],
      "source": [
        "!pip install kaggle\n",
        "!mkdir ~/.kaggle\n",
        "!cp kaggle.json ~/.kaggle/\n",
        "!chmod 600 ~/.kaggle/kaggle.json"
      ]
    },
    {
      "cell_type": "code",
      "source": [
        "! kaggle datasets download angelinehw/mnist-60\n",
        "#! unzip omniglot\n"
      ],
      "metadata": {
        "colab": {
          "base_uri": "https://localhost:8080/"
        },
        "id": "3eRH6jvZuAaC",
        "outputId": "69031158-f1ef-49d8-f5dc-3f6324cf7d27"
      },
      "execution_count": null,
      "outputs": [
        {
          "output_type": "stream",
          "name": "stdout",
          "text": [
            "Downloading mnist-60.zip to /content\n",
            "\r  0% 0.00/428k [00:00<?, ?B/s]\n",
            "\r100% 428k/428k [00:00<00:00, 94.1MB/s]\n"
          ]
        }
      ]
    },
    {
      "cell_type": "code",
      "source": [
        "!unzip mnist-60"
      ],
      "metadata": {
        "colab": {
          "base_uri": "https://localhost:8080/"
        },
        "id": "kxvRny96ux8w",
        "outputId": "cf8ae9ba-55ce-4404-d8cf-116bf4310eb4"
      },
      "execution_count": null,
      "outputs": [
        {
          "output_type": "stream",
          "name": "stdout",
          "text": [
            "Archive:  mnist-60.zip\n",
            "  inflating: mnist_test/0/img_1.jpg  \n",
            "  inflating: mnist_test/0/img_108.jpg  \n",
            "  inflating: mnist_test/0/img_110.jpg  \n",
            "  inflating: mnist_test/0/img_111.jpg  \n",
            "  inflating: mnist_test/0/img_114.jpg  \n",
            "  inflating: mnist_test/0/img_129.jpg  \n",
            "  inflating: mnist_test/0/img_141.jpg  \n",
            "  inflating: mnist_test/0/img_146.jpg  \n",
            "  inflating: mnist_test/0/img_149.jpg  \n",
            "  inflating: mnist_test/0/img_153.jpg  \n",
            "  inflating: mnist_test/0/img_157.jpg  \n",
            "  inflating: mnist_test/0/img_17.jpg  \n",
            "  inflating: mnist_test/0/img_183.jpg  \n",
            "  inflating: mnist_test/0/img_188.jpg  \n",
            "  inflating: mnist_test/0/img_193.jpg  \n",
            "  inflating: mnist_test/0/img_195.jpg  \n",
            "  inflating: mnist_test/0/img_196.jpg  \n",
            "  inflating: mnist_test/0/img_200.jpg  \n",
            "  inflating: mnist_test/0/img_201.jpg  \n",
            "  inflating: mnist_test/0/img_203.jpg  \n",
            "  inflating: mnist_test/0/img_204.jpg  \n",
            "  inflating: mnist_test/0/img_23.jpg  \n",
            "  inflating: mnist_test/0/img_248.jpg  \n",
            "  inflating: mnist_test/0/img_251.jpg  \n",
            "  inflating: mnist_test/0/img_260.jpg  \n",
            "  inflating: mnist_test/0/img_264.jpg  \n",
            "  inflating: mnist_test/0/img_267.jpg  \n",
            "  inflating: mnist_test/0/img_272.jpg  \n",
            "  inflating: mnist_test/0/img_273.jpg  \n",
            "  inflating: mnist_test/0/img_276.jpg  \n",
            "  inflating: mnist_test/0/img_279.jpg  \n",
            "  inflating: mnist_test/0/img_285.jpg  \n",
            "  inflating: mnist_test/0/img_286.jpg  \n",
            "  inflating: mnist_test/0/img_288.jpg  \n",
            "  inflating: mnist_test/0/img_292.jpg  \n",
            "  inflating: mnist_test/0/img_322.jpg  \n",
            "  inflating: mnist_test/0/img_327.jpg  \n",
            "  inflating: mnist_test/0/img_344.jpg  \n",
            "  inflating: mnist_test/0/img_357.jpg  \n",
            "  inflating: mnist_test/0/img_366.jpg  \n",
            "  inflating: mnist_test/0/img_373.jpg  \n",
            "  inflating: mnist_test/0/img_375.jpg  \n",
            "  inflating: mnist_test/0/img_4.jpg  \n",
            "  inflating: mnist_test/0/img_403.jpg  \n",
            "  inflating: mnist_test/0/img_404.jpg  \n",
            "  inflating: mnist_test/0/img_412.jpg  \n",
            "  inflating: mnist_test/0/img_418.jpg  \n",
            "  inflating: mnist_test/0/img_433.jpg  \n",
            "  inflating: mnist_test/0/img_435.jpg  \n",
            "  inflating: mnist_test/0/img_472.jpg  \n",
            "  inflating: mnist_test/0/img_486.jpg  \n",
            "  inflating: mnist_test/0/img_5.jpg  \n",
            "  inflating: mnist_test/0/img_502.jpg  \n",
            "  inflating: mnist_test/0/img_508.jpg  \n",
            "  inflating: mnist_test/0/img_538.jpg  \n",
            "  inflating: mnist_test/0/img_54.jpg  \n",
            "  inflating: mnist_test/0/img_542.jpg  \n",
            "  inflating: mnist_test/0/img_63.jpg  \n",
            "  inflating: mnist_test/0/img_69.jpg  \n",
            "  inflating: mnist_test/0/img_98.jpg  \n",
            "  inflating: mnist_test/1/img_0.jpg  \n",
            "  inflating: mnist_test/1/img_118.jpg  \n",
            "  inflating: mnist_test/1/img_12.jpg  \n",
            "  inflating: mnist_test/1/img_124.jpg  \n",
            "  inflating: mnist_test/1/img_134.jpg  \n",
            "  inflating: mnist_test/1/img_140.jpg  \n",
            "  inflating: mnist_test/1/img_15.jpg  \n",
            "  inflating: mnist_test/1/img_152.jpg  \n",
            "  inflating: mnist_test/1/img_182.jpg  \n",
            "  inflating: mnist_test/1/img_185.jpg  \n",
            "  inflating: mnist_test/1/img_191.jpg  \n",
            "  inflating: mnist_test/1/img_2.jpg  \n",
            "  inflating: mnist_test/1/img_209.jpg  \n",
            "  inflating: mnist_test/1/img_221.jpg  \n",
            "  inflating: mnist_test/1/img_224.jpg  \n",
            "  inflating: mnist_test/1/img_249.jpg  \n",
            "  inflating: mnist_test/1/img_255.jpg  \n",
            "  inflating: mnist_test/1/img_256.jpg  \n",
            "  inflating: mnist_test/1/img_257.jpg  \n",
            "  inflating: mnist_test/1/img_281.jpg  \n",
            "  inflating: mnist_test/1/img_295.jpg  \n",
            "  inflating: mnist_test/1/img_335.jpg  \n",
            "  inflating: mnist_test/1/img_342.jpg  \n",
            "  inflating: mnist_test/1/img_35.jpg  \n",
            "  inflating: mnist_test/1/img_37.jpg  \n",
            "  inflating: mnist_test/1/img_371.jpg  \n",
            "  inflating: mnist_test/1/img_38.jpg  \n",
            "  inflating: mnist_test/1/img_380.jpg  \n",
            "  inflating: mnist_test/1/img_388.jpg  \n",
            "  inflating: mnist_test/1/img_400.jpg  \n",
            "  inflating: mnist_test/1/img_401.jpg  \n",
            "  inflating: mnist_test/1/img_41.jpg  \n",
            "  inflating: mnist_test/1/img_424.jpg  \n",
            "  inflating: mnist_test/1/img_426.jpg  \n",
            "  inflating: mnist_test/1/img_451.jpg  \n",
            "  inflating: mnist_test/1/img_468.jpg  \n",
            "  inflating: mnist_test/1/img_476.jpg  \n",
            "  inflating: mnist_test/1/img_480.jpg  \n",
            "  inflating: mnist_test/1/img_484.jpg  \n",
            "  inflating: mnist_test/1/img_491.jpg  \n",
            "  inflating: mnist_test/1/img_495.jpg  \n",
            "  inflating: mnist_test/1/img_497.jpg  \n",
            "  inflating: mnist_test/1/img_52.jpg  \n",
            "  inflating: mnist_test/1/img_522.jpg  \n",
            "  inflating: mnist_test/1/img_527.jpg  \n",
            "  inflating: mnist_test/1/img_529.jpg  \n",
            "  inflating: mnist_test/1/img_540.jpg  \n",
            "  inflating: mnist_test/1/img_544.jpg  \n",
            "  inflating: mnist_test/1/img_549.jpg  \n",
            "  inflating: mnist_test/1/img_584.jpg  \n",
            "  inflating: mnist_test/1/img_59.jpg  \n",
            "  inflating: mnist_test/1/img_590.jpg  \n",
            "  inflating: mnist_test/1/img_594.jpg  \n",
            "  inflating: mnist_test/1/img_598.jpg  \n",
            "  inflating: mnist_test/1/img_60.jpg  \n",
            "  inflating: mnist_test/1/img_61.jpg  \n",
            "  inflating: mnist_test/1/img_68.jpg  \n",
            "  inflating: mnist_test/1/img_77.jpg  \n",
            "  inflating: mnist_test/1/img_79.jpg  \n",
            "  inflating: mnist_test/1/img_96.jpg  \n",
            "  inflating: mnist_test/2/img_101.jpg  \n",
            "  inflating: mnist_test/2/img_104.jpg  \n",
            "  inflating: mnist_test/2/img_112.jpg  \n",
            "  inflating: mnist_test/2/img_16.jpg  \n",
            "  inflating: mnist_test/2/img_169.jpg  \n",
            "  inflating: mnist_test/2/img_178.jpg  \n",
            "  inflating: mnist_test/2/img_190.jpg  \n",
            "  inflating: mnist_test/2/img_199.jpg  \n",
            "  inflating: mnist_test/2/img_207.jpg  \n",
            "  inflating: mnist_test/2/img_22.jpg  \n",
            "  inflating: mnist_test/2/img_233.jpg  \n",
            "  inflating: mnist_test/2/img_235.jpg  \n",
            "  inflating: mnist_test/2/img_236.jpg  \n",
            "  inflating: mnist_test/2/img_239.jpg  \n",
            "  inflating: mnist_test/2/img_24.jpg  \n",
            "  inflating: mnist_test/2/img_241.jpg  \n",
            "  inflating: mnist_test/2/img_247.jpg  \n",
            "  inflating: mnist_test/2/img_261.jpg  \n",
            "  inflating: mnist_test/2/img_263.jpg  \n",
            "  inflating: mnist_test/2/img_271.jpg  \n",
            "  inflating: mnist_test/2/img_275.jpg  \n",
            "  inflating: mnist_test/2/img_278.jpg  \n",
            "  inflating: mnist_test/2/img_287.jpg  \n",
            "  inflating: mnist_test/2/img_294.jpg  \n",
            "  inflating: mnist_test/2/img_298.jpg  \n",
            "  inflating: mnist_test/2/img_302.jpg  \n",
            "  inflating: mnist_test/2/img_306.jpg  \n",
            "  inflating: mnist_test/2/img_312.jpg  \n",
            "  inflating: mnist_test/2/img_324.jpg  \n",
            "  inflating: mnist_test/2/img_34.jpg  \n",
            "  inflating: mnist_test/2/img_341.jpg  \n",
            "  inflating: mnist_test/2/img_348.jpg  \n",
            "  inflating: mnist_test/2/img_353.jpg  \n",
            "  inflating: mnist_test/2/img_354.jpg  \n",
            "  inflating: mnist_test/2/img_355.jpg  \n",
            "  inflating: mnist_test/2/img_360.jpg  \n",
            "  inflating: mnist_test/2/img_361.jpg  \n",
            "  inflating: mnist_test/2/img_365.jpg  \n",
            "  inflating: mnist_test/2/img_370.jpg  \n",
            "  inflating: mnist_test/2/img_383.jpg  \n",
            "  inflating: mnist_test/2/img_397.jpg  \n",
            "  inflating: mnist_test/2/img_410.jpg  \n",
            "  inflating: mnist_test/2/img_413.jpg  \n",
            "  inflating: mnist_test/2/img_432.jpg  \n",
            "  inflating: mnist_test/2/img_438.jpg  \n",
            "  inflating: mnist_test/2/img_44.jpg  \n",
            "  inflating: mnist_test/2/img_444.jpg  \n",
            "  inflating: mnist_test/2/img_459.jpg  \n",
            "  inflating: mnist_test/2/img_462.jpg  \n",
            "  inflating: mnist_test/2/img_463.jpg  \n",
            "  inflating: mnist_test/2/img_465.jpg  \n",
            "  inflating: mnist_test/2/img_473.jpg  \n",
            "  inflating: mnist_test/2/img_474.jpg  \n",
            "  inflating: mnist_test/2/img_477.jpg  \n",
            "  inflating: mnist_test/2/img_55.jpg  \n",
            "  inflating: mnist_test/2/img_56.jpg  \n",
            "  inflating: mnist_test/2/img_73.jpg  \n",
            "  inflating: mnist_test/2/img_84.jpg  \n",
            "  inflating: mnist_test/2/img_94.jpg  \n",
            "  inflating: mnist_test/2/img_97.jpg  \n",
            "  inflating: mnist_test/3/img_13.jpg  \n",
            "  inflating: mnist_test/3/img_137.jpg  \n",
            "  inflating: mnist_test/3/img_139.jpg  \n",
            "  inflating: mnist_test/3/img_14.jpg  \n",
            "  inflating: mnist_test/3/img_142.jpg  \n",
            "  inflating: mnist_test/3/img_150.jpg  \n",
            "  inflating: mnist_test/3/img_155.jpg  \n",
            "  inflating: mnist_test/3/img_166.jpg  \n",
            "  inflating: mnist_test/3/img_181.jpg  \n",
            "  inflating: mnist_test/3/img_192.jpg  \n",
            "  inflating: mnist_test/3/img_198.jpg  \n",
            "  inflating: mnist_test/3/img_212.jpg  \n",
            "  inflating: mnist_test/3/img_219.jpg  \n",
            "  inflating: mnist_test/3/img_225.jpg  \n",
            "  inflating: mnist_test/3/img_228.jpg  \n",
            "  inflating: mnist_test/3/img_230.jpg  \n",
            "  inflating: mnist_test/3/img_232.jpg  \n",
            "  inflating: mnist_test/3/img_234.jpg  \n",
            "  inflating: mnist_test/3/img_240.jpg  \n",
            "  inflating: mnist_test/3/img_25.jpg  \n",
            "  inflating: mnist_test/3/img_253.jpg  \n",
            "  inflating: mnist_test/3/img_284.jpg  \n",
            "  inflating: mnist_test/3/img_311.jpg  \n",
            "  inflating: mnist_test/3/img_314.jpg  \n",
            "  inflating: mnist_test/3/img_316.jpg  \n",
            "  inflating: mnist_test/3/img_320.jpg  \n",
            "  inflating: mnist_test/3/img_333.jpg  \n",
            "  inflating: mnist_test/3/img_334.jpg  \n",
            "  inflating: mnist_test/3/img_36.jpg  \n",
            "  inflating: mnist_test/3/img_363.jpg  \n",
            "  inflating: mnist_test/3/img_379.jpg  \n",
            "  inflating: mnist_test/3/img_387.jpg  \n",
            "  inflating: mnist_test/3/img_392.jpg  \n",
            "  inflating: mnist_test/3/img_394.jpg  \n",
            "  inflating: mnist_test/3/img_417.jpg  \n",
            "  inflating: mnist_test/3/img_431.jpg  \n",
            "  inflating: mnist_test/3/img_458.jpg  \n",
            "  inflating: mnist_test/3/img_46.jpg  \n",
            "  inflating: mnist_test/3/img_470.jpg  \n",
            "  inflating: mnist_test/3/img_481.jpg  \n",
            "  inflating: mnist_test/3/img_489.jpg  \n",
            "  inflating: mnist_test/3/img_492.jpg  \n",
            "  inflating: mnist_test/3/img_510.jpg  \n",
            "  inflating: mnist_test/3/img_537.jpg  \n",
            "  inflating: mnist_test/3/img_560.jpg  \n",
            "  inflating: mnist_test/3/img_565.jpg  \n",
            "  inflating: mnist_test/3/img_568.jpg  \n",
            "  inflating: mnist_test/3/img_57.jpg  \n",
            "  inflating: mnist_test/3/img_581.jpg  \n",
            "  inflating: mnist_test/3/img_596.jpg  \n",
            "  inflating: mnist_test/3/img_597.jpg  \n",
            "  inflating: mnist_test/3/img_606.jpg  \n",
            "  inflating: mnist_test/3/img_610.jpg  \n",
            "  inflating: mnist_test/3/img_615.jpg  \n",
            "  inflating: mnist_test/3/img_619.jpg  \n",
            "  inflating: mnist_test/3/img_65.jpg  \n",
            "  inflating: mnist_test/3/img_7.jpg  \n",
            "  inflating: mnist_test/3/img_70.jpg  \n",
            "  inflating: mnist_test/3/img_9.jpg  \n",
            "  inflating: mnist_test/3/img_90.jpg  \n",
            "  inflating: mnist_test/4/img_115.jpg  \n",
            "  inflating: mnist_test/4/img_122.jpg  \n",
            "  inflating: mnist_test/4/img_130.jpg  \n",
            "  inflating: mnist_test/4/img_143.jpg  \n",
            "  inflating: mnist_test/4/img_145.jpg  \n",
            "  inflating: mnist_test/4/img_148.jpg  \n",
            "  inflating: mnist_test/4/img_163.jpg  \n",
            "  inflating: mnist_test/4/img_168.jpg  \n",
            "  inflating: mnist_test/4/img_170.jpg  \n",
            "  inflating: mnist_test/4/img_184.jpg  \n",
            "  inflating: mnist_test/4/img_205.jpg  \n",
            "  inflating: mnist_test/4/img_215.jpg  \n",
            "  inflating: mnist_test/4/img_250.jpg  \n",
            "  inflating: mnist_test/4/img_258.jpg  \n",
            "  inflating: mnist_test/4/img_277.jpg  \n",
            "  inflating: mnist_test/4/img_291.jpg  \n",
            "  inflating: mnist_test/4/img_299.jpg  \n",
            "  inflating: mnist_test/4/img_3.jpg  \n",
            "  inflating: mnist_test/4/img_309.jpg  \n",
            "  inflating: mnist_test/4/img_32.jpg  \n",
            "  inflating: mnist_test/4/img_329.jpg  \n",
            "  inflating: mnist_test/4/img_332.jpg  \n",
            "  inflating: mnist_test/4/img_351.jpg  \n",
            "  inflating: mnist_test/4/img_364.jpg  \n",
            "  inflating: mnist_test/4/img_376.jpg  \n",
            "  inflating: mnist_test/4/img_378.jpg  \n",
            "  inflating: mnist_test/4/img_382.jpg  \n",
            "  inflating: mnist_test/4/img_39.jpg  \n",
            "  inflating: mnist_test/4/img_390.jpg  \n",
            "  inflating: mnist_test/4/img_398.jpg  \n",
            "  inflating: mnist_test/4/img_402.jpg  \n",
            "  inflating: mnist_test/4/img_409.jpg  \n",
            "  inflating: mnist_test/4/img_415.jpg  \n",
            "  inflating: mnist_test/4/img_42.jpg  \n",
            "  inflating: mnist_test/4/img_420.jpg  \n",
            "  inflating: mnist_test/4/img_423.jpg  \n",
            "  inflating: mnist_test/4/img_428.jpg  \n",
            "  inflating: mnist_test/4/img_43.jpg  \n",
            "  inflating: mnist_test/4/img_430.jpg  \n",
            "  inflating: mnist_test/4/img_445.jpg  \n",
            "  inflating: mnist_test/4/img_446.jpg  \n",
            "  inflating: mnist_test/4/img_448.jpg  \n",
            "  inflating: mnist_test/4/img_450.jpg  \n",
            "  inflating: mnist_test/4/img_467.jpg  \n",
            "  inflating: mnist_test/4/img_482.jpg  \n",
            "  inflating: mnist_test/4/img_49.jpg  \n",
            "  inflating: mnist_test/4/img_490.jpg  \n",
            "  inflating: mnist_test/4/img_494.jpg  \n",
            "  inflating: mnist_test/4/img_496.jpg  \n",
            "  inflating: mnist_test/4/img_516.jpg  \n",
            "  inflating: mnist_test/4/img_524.jpg  \n",
            "  inflating: mnist_test/4/img_530.jpg  \n",
            "  inflating: mnist_test/4/img_531.jpg  \n",
            "  inflating: mnist_test/4/img_541.jpg  \n",
            "  inflating: mnist_test/4/img_548.jpg  \n",
            "  inflating: mnist_test/4/img_66.jpg  \n",
            "  inflating: mnist_test/4/img_75.jpg  \n",
            "  inflating: mnist_test/4/img_78.jpg  \n",
            "  inflating: mnist_test/4/img_81.jpg  \n",
            "  inflating: mnist_test/4/img_92.jpg  \n",
            "  inflating: mnist_test/5/img_107.jpg  \n",
            "  inflating: mnist_test/5/img_119.jpg  \n",
            "  inflating: mnist_test/5/img_125.jpg  \n",
            "  inflating: mnist_test/5/img_128.jpg  \n",
            "  inflating: mnist_test/5/img_144.jpg  \n",
            "  inflating: mnist_test/5/img_147.jpg  \n",
            "  inflating: mnist_test/5/img_151.jpg  \n",
            "  inflating: mnist_test/5/img_162.jpg  \n",
            "  inflating: mnist_test/5/img_167.jpg  \n",
            "  inflating: mnist_test/5/img_174.jpg  \n",
            "  inflating: mnist_test/5/img_186.jpg  \n",
            "  inflating: mnist_test/5/img_19.jpg  \n",
            "  inflating: mnist_test/5/img_218.jpg  \n",
            "  inflating: mnist_test/5/img_243.jpg  \n",
            "  inflating: mnist_test/5/img_244.jpg  \n",
            "  inflating: mnist_test/5/img_265.jpg  \n",
            "  inflating: mnist_test/5/img_297.jpg  \n",
            "  inflating: mnist_test/5/img_301.jpg  \n",
            "  inflating: mnist_test/5/img_328.jpg  \n",
            "  inflating: mnist_test/5/img_330.jpg  \n",
            "  inflating: mnist_test/5/img_345.jpg  \n",
            "  inflating: mnist_test/5/img_347.jpg  \n",
            "  inflating: mnist_test/5/img_350.jpg  \n",
            "  inflating: mnist_test/5/img_367.jpg  \n",
            "  inflating: mnist_test/5/img_381.jpg  \n",
            "  inflating: mnist_test/5/img_385.jpg  \n",
            "  inflating: mnist_test/5/img_389.jpg  \n",
            "  inflating: mnist_test/5/img_391.jpg  \n",
            "  inflating: mnist_test/5/img_405.jpg  \n",
            "  inflating: mnist_test/5/img_414.jpg  \n",
            "  inflating: mnist_test/5/img_427.jpg  \n",
            "  inflating: mnist_test/5/img_434.jpg  \n",
            "  inflating: mnist_test/5/img_443.jpg  \n",
            "  inflating: mnist_test/5/img_453.jpg  \n",
            "  inflating: mnist_test/5/img_456.jpg  \n",
            "  inflating: mnist_test/5/img_460.jpg  \n",
            "  inflating: mnist_test/5/img_498.jpg  \n",
            "  inflating: mnist_test/5/img_503.jpg  \n",
            "  inflating: mnist_test/5/img_51.jpg  \n",
            "  inflating: mnist_test/5/img_511.jpg  \n",
            "  inflating: mnist_test/5/img_518.jpg  \n",
            "  inflating: mnist_test/5/img_525.jpg  \n",
            "  inflating: mnist_test/5/img_526.jpg  \n",
            "  inflating: mnist_test/5/img_533.jpg  \n",
            "  inflating: mnist_test/5/img_539.jpg  \n",
            "  inflating: mnist_test/5/img_543.jpg  \n",
            "  inflating: mnist_test/5/img_557.jpg  \n",
            "  inflating: mnist_test/5/img_561.jpg  \n",
            "  inflating: mnist_test/5/img_569.jpg  \n",
            "  inflating: mnist_test/5/img_571.jpg  \n",
            "  inflating: mnist_test/5/img_580.jpg  \n",
            "  inflating: mnist_test/5/img_587.jpg  \n",
            "  inflating: mnist_test/5/img_589.jpg  \n",
            "  inflating: mnist_test/5/img_602.jpg  \n",
            "  inflating: mnist_test/5/img_62.jpg  \n",
            "  inflating: mnist_test/5/img_626.jpg  \n",
            "  inflating: mnist_test/5/img_651.jpg  \n",
            "  inflating: mnist_test/5/img_8.jpg  \n",
            "  inflating: mnist_test/5/img_80.jpg  \n",
            "  inflating: mnist_test/5/img_99.jpg  \n",
            "  inflating: mnist_test/6/img_109.jpg  \n",
            "  inflating: mnist_test/6/img_123.jpg  \n",
            "  inflating: mnist_test/6/img_127.jpg  \n",
            "  inflating: mnist_test/6/img_133.jpg  \n",
            "  inflating: mnist_test/6/img_159.jpg  \n",
            "  inflating: mnist_test/6/img_160.jpg  \n",
            "  inflating: mnist_test/6/img_164.jpg  \n",
            "  inflating: mnist_test/6/img_179.jpg  \n",
            "  inflating: mnist_test/6/img_189.jpg  \n",
            "  inflating: mnist_test/6/img_194.jpg  \n",
            "  inflating: mnist_test/6/img_202.jpg  \n",
            "  inflating: mnist_test/6/img_21.jpg  \n",
            "  inflating: mnist_test/6/img_216.jpg  \n",
            "  inflating: mnist_test/6/img_217.jpg  \n",
            "  inflating: mnist_test/6/img_227.jpg  \n",
            "  inflating: mnist_test/6/img_229.jpg  \n",
            "  inflating: mnist_test/6/img_231.jpg  \n",
            "  inflating: mnist_test/6/img_252.jpg  \n",
            "  inflating: mnist_test/6/img_26.jpg  \n",
            "  inflating: mnist_test/6/img_266.jpg  \n",
            "  inflating: mnist_test/6/img_270.jpg  \n",
            "  inflating: mnist_test/6/img_282.jpg  \n",
            "  inflating: mnist_test/6/img_289.jpg  \n",
            "  inflating: mnist_test/6/img_315.jpg  \n",
            "  inflating: mnist_test/6/img_317.jpg  \n",
            "  inflating: mnist_test/6/img_340.jpg  \n",
            "  inflating: mnist_test/6/img_346.jpg  \n",
            "  inflating: mnist_test/6/img_352.jpg  \n",
            "  inflating: mnist_test/6/img_362.jpg  \n",
            "  inflating: mnist_test/6/img_369.jpg  \n",
            "  inflating: mnist_test/6/img_374.jpg  \n",
            "  inflating: mnist_test/6/img_396.jpg  \n",
            "  inflating: mnist_test/6/img_399.jpg  \n",
            "  inflating: mnist_test/6/img_407.jpg  \n",
            "  inflating: mnist_test/6/img_419.jpg  \n",
            "  inflating: mnist_test/6/img_422.jpg  \n",
            "  inflating: mnist_test/6/img_442.jpg  \n",
            "  inflating: mnist_test/6/img_447.jpg  \n",
            "  inflating: mnist_test/6/img_45.jpg  \n",
            "  inflating: mnist_test/6/img_471.jpg  \n",
            "  inflating: mnist_test/6/img_500.jpg  \n",
            "  inflating: mnist_test/6/img_505.jpg  \n",
            "  inflating: mnist_test/6/img_532.jpg  \n",
            "  inflating: mnist_test/6/img_550.jpg  \n",
            "  inflating: mnist_test/6/img_570.jpg  \n",
            "  inflating: mnist_test/6/img_583.jpg  \n",
            "  inflating: mnist_test/6/img_591.jpg  \n",
            "  inflating: mnist_test/6/img_595.jpg  \n",
            "  inflating: mnist_test/6/img_604.jpg  \n",
            "  inflating: mnist_test/6/img_607.jpg  \n",
            "  inflating: mnist_test/6/img_625.jpg  \n",
            "  inflating: mnist_test/6/img_630.jpg  \n",
            "  inflating: mnist_test/6/img_634.jpg  \n",
            "  inflating: mnist_test/6/img_64.jpg  \n",
            "  inflating: mnist_test/6/img_659.jpg  \n",
            "  inflating: mnist_test/6/img_72.jpg  \n",
            "  inflating: mnist_test/6/img_74.jpg  \n",
            "  inflating: mnist_test/6/img_89.jpg  \n",
            "  inflating: mnist_test/6/img_91.jpg  \n",
            "  inflating: mnist_test/6/img_93.jpg  \n",
            "  inflating: mnist_test/7/img_102.jpg  \n",
            "  inflating: mnist_test/7/img_103.jpg  \n",
            "  inflating: mnist_test/7/img_116.jpg  \n",
            "  inflating: mnist_test/7/img_117.jpg  \n",
            "  inflating: mnist_test/7/img_120.jpg  \n",
            "  inflating: mnist_test/7/img_126.jpg  \n",
            "  inflating: mnist_test/7/img_132.jpg  \n",
            "  inflating: mnist_test/7/img_136.jpg  \n",
            "  inflating: mnist_test/7/img_138.jpg  \n",
            "  inflating: mnist_test/7/img_156.jpg  \n",
            "  inflating: mnist_test/7/img_172.jpg  \n",
            "  inflating: mnist_test/7/img_173.jpg  \n",
            "  inflating: mnist_test/7/img_18.jpg  \n",
            "  inflating: mnist_test/7/img_206.jpg  \n",
            "  inflating: mnist_test/7/img_208.jpg  \n",
            "  inflating: mnist_test/7/img_223.jpg  \n",
            "  inflating: mnist_test/7/img_226.jpg  \n",
            "  inflating: mnist_test/7/img_237.jpg  \n",
            "  inflating: mnist_test/7/img_242.jpg  \n",
            "  inflating: mnist_test/7/img_254.jpg  \n",
            "  inflating: mnist_test/7/img_259.jpg  \n",
            "  inflating: mnist_test/7/img_274.jpg  \n",
            "  inflating: mnist_test/7/img_29.jpg  \n",
            "  inflating: mnist_test/7/img_293.jpg  \n",
            "  inflating: mnist_test/7/img_304.jpg  \n",
            "  inflating: mnist_test/7/img_308.jpg  \n",
            "  inflating: mnist_test/7/img_313.jpg  \n",
            "  inflating: mnist_test/7/img_321.jpg  \n",
            "  inflating: mnist_test/7/img_325.jpg  \n",
            "  inflating: mnist_test/7/img_336.jpg  \n",
            "  inflating: mnist_test/7/img_339.jpg  \n",
            "  inflating: mnist_test/7/img_343.jpg  \n",
            "  inflating: mnist_test/7/img_358.jpg  \n",
            "  inflating: mnist_test/7/img_359.jpg  \n",
            "  inflating: mnist_test/7/img_386.jpg  \n",
            "  inflating: mnist_test/7/img_393.jpg  \n",
            "  inflating: mnist_test/7/img_408.jpg  \n",
            "  inflating: mnist_test/7/img_436.jpg  \n",
            "  inflating: mnist_test/7/img_452.jpg  \n",
            "  inflating: mnist_test/7/img_464.jpg  \n",
            "  inflating: mnist_test/7/img_47.jpg  \n",
            "  inflating: mnist_test/7/img_478.jpg  \n",
            "  inflating: mnist_test/7/img_48.jpg  \n",
            "  inflating: mnist_test/7/img_493.jpg  \n",
            "  inflating: mnist_test/7/img_50.jpg  \n",
            "  inflating: mnist_test/7/img_504.jpg  \n",
            "  inflating: mnist_test/7/img_509.jpg  \n",
            "  inflating: mnist_test/7/img_521.jpg  \n",
            "  inflating: mnist_test/7/img_573.jpg  \n",
            "  inflating: mnist_test/7/img_578.jpg  \n",
            "  inflating: mnist_test/7/img_582.jpg  \n",
            "  inflating: mnist_test/7/img_586.jpg  \n",
            "  inflating: mnist_test/7/img_593.jpg  \n",
            "  inflating: mnist_test/7/img_6.jpg  \n",
            "  inflating: mnist_test/7/img_608.jpg  \n",
            "  inflating: mnist_test/7/img_609.jpg  \n",
            "  inflating: mnist_test/7/img_613.jpg  \n",
            "  inflating: mnist_test/7/img_620.jpg  \n",
            "  inflating: mnist_test/7/img_654.jpg  \n",
            "  inflating: mnist_test/7/img_76.jpg  \n",
            "  inflating: mnist_test/8/img_10.jpg  \n",
            "  inflating: mnist_test/8/img_105.jpg  \n",
            "  inflating: mnist_test/8/img_106.jpg  \n",
            "  inflating: mnist_test/8/img_131.jpg  \n",
            "  inflating: mnist_test/8/img_135.jpg  \n",
            "  inflating: mnist_test/8/img_154.jpg  \n",
            "  inflating: mnist_test/8/img_171.jpg  \n",
            "  inflating: mnist_test/8/img_175.jpg  \n",
            "  inflating: mnist_test/8/img_176.jpg  \n",
            "  inflating: mnist_test/8/img_177.jpg  \n",
            "  inflating: mnist_test/8/img_197.jpg  \n",
            "  inflating: mnist_test/8/img_20.jpg  \n",
            "  inflating: mnist_test/8/img_214.jpg  \n",
            "  inflating: mnist_test/8/img_220.jpg  \n",
            "  inflating: mnist_test/8/img_222.jpg  \n",
            "  inflating: mnist_test/8/img_245.jpg  \n",
            "  inflating: mnist_test/8/img_246.jpg  \n",
            "  inflating: mnist_test/8/img_268.jpg  \n",
            "  inflating: mnist_test/8/img_290.jpg  \n",
            "  inflating: mnist_test/8/img_30.jpg  \n",
            "  inflating: mnist_test/8/img_300.jpg  \n",
            "  inflating: mnist_test/8/img_318.jpg  \n",
            "  inflating: mnist_test/8/img_319.jpg  \n",
            "  inflating: mnist_test/8/img_331.jpg  \n",
            "  inflating: mnist_test/8/img_337.jpg  \n",
            "  inflating: mnist_test/8/img_377.jpg  \n",
            "  inflating: mnist_test/8/img_395.jpg  \n",
            "  inflating: mnist_test/8/img_406.jpg  \n",
            "  inflating: mnist_test/8/img_411.jpg  \n",
            "  inflating: mnist_test/8/img_416.jpg  \n",
            "  inflating: mnist_test/8/img_421.jpg  \n",
            "  inflating: mnist_test/8/img_425.jpg  \n",
            "  inflating: mnist_test/8/img_440.jpg  \n",
            "  inflating: mnist_test/8/img_449.jpg  \n",
            "  inflating: mnist_test/8/img_454.jpg  \n",
            "  inflating: mnist_test/8/img_461.jpg  \n",
            "  inflating: mnist_test/8/img_466.jpg  \n",
            "  inflating: mnist_test/8/img_485.jpg  \n",
            "  inflating: mnist_test/8/img_506.jpg  \n",
            "  inflating: mnist_test/8/img_512.jpg  \n",
            "  inflating: mnist_test/8/img_514.jpg  \n",
            "  inflating: mnist_test/8/img_517.jpg  \n",
            "  inflating: mnist_test/8/img_519.jpg  \n",
            "  inflating: mnist_test/8/img_528.jpg  \n",
            "  inflating: mnist_test/8/img_534.jpg  \n",
            "  inflating: mnist_test/8/img_551.jpg  \n",
            "  inflating: mnist_test/8/img_605.jpg  \n",
            "  inflating: mnist_test/8/img_611.jpg  \n",
            "  inflating: mnist_test/8/img_618.jpg  \n",
            "  inflating: mnist_test/8/img_629.jpg  \n",
            "  inflating: mnist_test/8/img_637.jpg  \n",
            "  inflating: mnist_test/8/img_639.jpg  \n",
            "  inflating: mnist_test/8/img_640.jpg  \n",
            "  inflating: mnist_test/8/img_647.jpg  \n",
            "  inflating: mnist_test/8/img_653.jpg  \n",
            "  inflating: mnist_test/8/img_67.jpg  \n",
            "  inflating: mnist_test/8/img_672.jpg  \n",
            "  inflating: mnist_test/8/img_674.jpg  \n",
            "  inflating: mnist_test/8/img_82.jpg  \n",
            "  inflating: mnist_test/8/img_87.jpg  \n",
            "  inflating: mnist_test/9/img_100.jpg  \n",
            "  inflating: mnist_test/9/img_11.jpg  \n",
            "  inflating: mnist_test/9/img_113.jpg  \n",
            "  inflating: mnist_test/9/img_121.jpg  \n",
            "  inflating: mnist_test/9/img_158.jpg  \n",
            "  inflating: mnist_test/9/img_161.jpg  \n",
            "  inflating: mnist_test/9/img_165.jpg  \n",
            "  inflating: mnist_test/9/img_180.jpg  \n",
            "  inflating: mnist_test/9/img_187.jpg  \n",
            "  inflating: mnist_test/9/img_210.jpg  \n",
            "  inflating: mnist_test/9/img_211.jpg  \n",
            "  inflating: mnist_test/9/img_213.jpg  \n",
            "  inflating: mnist_test/9/img_238.jpg  \n",
            "  inflating: mnist_test/9/img_262.jpg  \n",
            "  inflating: mnist_test/9/img_269.jpg  \n",
            "  inflating: mnist_test/9/img_27.jpg  \n",
            "  inflating: mnist_test/9/img_28.jpg  \n",
            "  inflating: mnist_test/9/img_280.jpg  \n",
            "  inflating: mnist_test/9/img_283.jpg  \n",
            "  inflating: mnist_test/9/img_296.jpg  \n",
            "  inflating: mnist_test/9/img_303.jpg  \n",
            "  inflating: mnist_test/9/img_305.jpg  \n",
            "  inflating: mnist_test/9/img_307.jpg  \n",
            "  inflating: mnist_test/9/img_31.jpg  \n",
            "  inflating: mnist_test/9/img_310.jpg  \n",
            "  inflating: mnist_test/9/img_323.jpg  \n",
            "  inflating: mnist_test/9/img_326.jpg  \n",
            "  inflating: mnist_test/9/img_33.jpg  \n",
            "  inflating: mnist_test/9/img_338.jpg  \n",
            "  inflating: mnist_test/9/img_349.jpg  \n",
            "  inflating: mnist_test/9/img_356.jpg  \n",
            "  inflating: mnist_test/9/img_368.jpg  \n",
            "  inflating: mnist_test/9/img_372.jpg  \n",
            "  inflating: mnist_test/9/img_384.jpg  \n",
            "  inflating: mnist_test/9/img_40.jpg  \n",
            "  inflating: mnist_test/9/img_429.jpg  \n",
            "  inflating: mnist_test/9/img_437.jpg  \n",
            "  inflating: mnist_test/9/img_439.jpg  \n",
            "  inflating: mnist_test/9/img_441.jpg  \n",
            "  inflating: mnist_test/9/img_455.jpg  \n",
            "  inflating: mnist_test/9/img_457.jpg  \n",
            "  inflating: mnist_test/9/img_469.jpg  \n",
            "  inflating: mnist_test/9/img_475.jpg  \n",
            "  inflating: mnist_test/9/img_483.jpg  \n",
            "  inflating: mnist_test/9/img_499.jpg  \n",
            "  inflating: mnist_test/9/img_501.jpg  \n",
            "  inflating: mnist_test/9/img_520.jpg  \n",
            "  inflating: mnist_test/9/img_53.jpg  \n",
            "  inflating: mnist_test/9/img_535.jpg  \n",
            "  inflating: mnist_test/9/img_546.jpg  \n",
            "  inflating: mnist_test/9/img_554.jpg  \n",
            "  inflating: mnist_test/9/img_558.jpg  \n",
            "  inflating: mnist_test/9/img_562.jpg  \n",
            "  inflating: mnist_test/9/img_58.jpg  \n",
            "  inflating: mnist_test/9/img_71.jpg  \n",
            "  inflating: mnist_test/9/img_83.jpg  \n",
            "  inflating: mnist_test/9/img_85.jpg  \n",
            "  inflating: mnist_test/9/img_86.jpg  \n",
            "  inflating: mnist_test/9/img_88.jpg  \n",
            "  inflating: mnist_test/9/img_95.jpg  \n"
          ]
        }
      ]
    },
    {
      "cell_type": "code",
      "source": [
        "from google.colab import drive\n",
        "drive.mount('/content/gdrive')"
      ],
      "metadata": {
        "colab": {
          "base_uri": "https://localhost:8080/"
        },
        "id": "YFR01BqLvKPa",
        "outputId": "6be3c40f-a150-4db7-b863-0ffac59aed52"
      },
      "execution_count": null,
      "outputs": [
        {
          "output_type": "stream",
          "name": "stdout",
          "text": [
            "Mounted at /content/gdrive\n"
          ]
        }
      ]
    },
    {
      "cell_type": "code",
      "source": [
        "import tensorflow as tf\n",
        "import numpy as np\n",
        "import matplotlib.pyplot as plt\n",
        "import os\n",
        "from tqdm import tqdm #for progress bar\n",
        "import cv2 #for image processing\n",
        "from numpy import random as rng\n",
        "from sklearn.utils import shuffle\n",
        "import pickle\n",
        "import time\n",
        "\n",
        "from tensorflow.keras.layers import Input, Lambda, Conv2D, MaxPooling2D, BatchNormalization, Dense, Flatten, Activation, Dropout\n",
        "from tensorflow.keras.models import Sequential, Model\n",
        "from tensorflow.keras import backend as K\n",
        "from PIL import Image"
      ],
      "metadata": {
        "id": "fs1GuhX_1LUp"
      },
      "execution_count": null,
      "outputs": []
    },
    {
      "cell_type": "code",
      "source": [
        "from keras.models import load_model\n",
        "bce_size_35 = load_model('/content/gdrive/MyDrive/project/phase_2/omniglot-siamese-bce_size_35_256_7k.h5')"
      ],
      "metadata": {
        "id": "atXQOtic04zA"
      },
      "execution_count": null,
      "outputs": []
    },
    {
      "cell_type": "code",
      "source": [
        "path = '/content/mnist_test'"
      ],
      "metadata": {
        "id": "vAkyZPVZ1Us-"
      },
      "execution_count": null,
      "outputs": []
    },
    {
      "cell_type": "code",
      "source": [
        "def create_dataset(img_folder):\n",
        "  X=[]\n",
        "  for dirl in os.listdir(img_folder):\n",
        "    t_folder = os.listdir(os.path.join(img_folder,dirl))\n",
        "    #print(t_folder)\n",
        "    cat =[]\n",
        "\n",
        "    for file in os.listdir(os.path.join(img_folder,dirl)):\n",
        "      image_path=os.path.join(img_folder,dirl,file)\n",
        "      img = Image.open(image_path)\n",
        "      re_size = img.resize((35,35))\n",
        "      re_size.save(image_path)\n",
        "      gray=cv2.imread(image_path,cv2.COLOR_BGR2RGB)\n",
        "      #cat.append(cv2.cvtColor(cv2.imread(image_path),cv2.COLOR_BGR2GRAY))\n",
        "      kernel = np.ones((2,2), np.uint8)\n",
        "      img_erode = cv2.erode(gray, kernel, iterations=1)\n",
        "      (T, threshInv) = cv2.threshold(img_erode, 0, 255,\n",
        "\t        cv2.THRESH_BINARY_INV | cv2.THRESH_OTSU)\n",
        "      #pyplot.figure()\n",
        "      #pyplot.imshow(threshInv,cmap='gray')\n",
        "\n",
        "      cat.append(threshInv)\n",
        "\n",
        "\n",
        "\n",
        "\n",
        "    X.append(cat)\n",
        "  X = np.array(X)\n",
        "\n",
        "\n",
        "  return X"
      ],
      "metadata": {
        "id": "gUYqH5Gy1lDk"
      },
      "execution_count": null,
      "outputs": []
    },
    {
      "cell_type": "code",
      "source": [
        "T = create_dataset(path)"
      ],
      "metadata": {
        "id": "Bwd_uHeG1pQe"
      },
      "execution_count": null,
      "outputs": []
    },
    {
      "cell_type": "code",
      "source": [
        "T.shape"
      ],
      "metadata": {
        "colab": {
          "base_uri": "https://localhost:8080/"
        },
        "id": "0NM-3Bvh1qNh",
        "outputId": "45c69c41-976b-4e71-b45d-ebc853056654"
      },
      "execution_count": null,
      "outputs": [
        {
          "output_type": "execute_result",
          "data": {
            "text/plain": [
              "(10, 60, 35, 35)"
            ]
          },
          "metadata": {},
          "execution_count": 67
        }
      ]
    },
    {
      "cell_type": "code",
      "source": [],
      "metadata": {
        "id": "iWvaPaJHnq6C"
      },
      "execution_count": null,
      "outputs": []
    },
    {
      "cell_type": "code",
      "source": [],
      "metadata": {
        "id": "GTWAt8DGco8a"
      },
      "execution_count": null,
      "outputs": []
    },
    {
      "cell_type": "code",
      "source": [
        "def make_one_shot_task(N,X):\n",
        "\n",
        "    #Creating pairs of test image, support set for testing N way one-shot learning\n",
        "\n",
        "    n_classes, n_examples, w, h = X.shape\n",
        "    #from n_classes create an array labels/classes of size N=20 with repetition\n",
        "    cats = rng.choice(n_classes,size=(N,),replace=False)\n",
        "\n",
        "    #each character/class has 20 examples. From that create an array of size N=20 with repetition\n",
        "    indices = rng.choice(n_examples,size=(N,))\n",
        "\n",
        "    #from the character label array pick the first label\n",
        "    true_cat = cats[0]\n",
        "\n",
        "    #from 20 samples, randomly chose one sample\n",
        "    ex1 = rng.randint(n_examples)\n",
        "\n",
        "    # from test/val image from true_cat label pick the ex1 th sample and reshape it\n",
        "    test_image = np.array([X[true_cat,ex1]]*N).reshape(N,w,h,1)\n",
        "\n",
        "    # cats has the class/character\n",
        "    # indices is the sample image of size 20\n",
        "    support_set = X[cats,indices].reshape(N,w,h,1)\n",
        "    targets = np.zeros((N,))\n",
        "    targets[0] = 1\n",
        "\n",
        "    test_image,support_set,targets = shuffle(test_image,support_set,targets)\n",
        "   # print(\"Classes\", cats)\n",
        "    #print(\"Indices\", indices)\n",
        "    #print(\"QueryImage\", true_cat)\n",
        "    #print(\"ex1\",ex1)\n",
        "    #print(\"targets\",targets)\n",
        "\n",
        "    return [test_image,support_set], targets"
      ],
      "metadata": {
        "id": "BWKubFUz1sA2"
      },
      "execution_count": null,
      "outputs": []
    },
    {
      "cell_type": "code",
      "source": [
        "def test_one_shot(model,N,k,X):\n",
        "    n_correct = 0\n",
        "    for _ in range(k):\n",
        "        inputs, outputs = make_one_shot_task(N,X)\n",
        "        #plot_oneshot_task(inputs)\n",
        "        preds = model.predict(inputs)\n",
        "        if np.argmax(outputs) == np.argmax(preds):\n",
        "            n_correct += 1\n",
        "       # print(outputs)\n",
        "        #print(\"O\",np.argmax(outputs))\n",
        "        #print(\"P\",np.argmax(preds))\n",
        "    return n_correct / k"
      ],
      "metadata": {
        "id": "CYSMQnMd1yzc"
      },
      "execution_count": null,
      "outputs": []
    },
    {
      "cell_type": "code",
      "source": [
        "#testing for 10-way one shot learning\n",
        "\n",
        "for i in range(20):\n",
        "  print('Final Validation Accuracy using 250 20-Way One Shot Learning:', round(test_one_shot(bce_size_35,10,250,T) * 100,2))"
      ],
      "metadata": {
        "colab": {
          "base_uri": "https://localhost:8080/"
        },
        "id": "NCvkOgOR12T1",
        "outputId": "6cd4387d-7aad-42b7-96db-cf22d23c4fdf"
      },
      "execution_count": null,
      "outputs": [
        {
          "output_type": "stream",
          "name": "stdout",
          "text": [
            "Final Validation Accuracy using 250 20-Way One Shot Learning: 66.4\n",
            "Final Validation Accuracy using 250 20-Way One Shot Learning: 58.0\n",
            "Final Validation Accuracy using 250 20-Way One Shot Learning: 53.6\n",
            "Final Validation Accuracy using 250 20-Way One Shot Learning: 54.8\n",
            "Final Validation Accuracy using 250 20-Way One Shot Learning: 57.6\n",
            "Final Validation Accuracy using 250 20-Way One Shot Learning: 55.6\n",
            "Final Validation Accuracy using 250 20-Way One Shot Learning: 55.6\n",
            "Final Validation Accuracy using 250 20-Way One Shot Learning: 52.8\n",
            "Final Validation Accuracy using 250 20-Way One Shot Learning: 62.8\n",
            "Final Validation Accuracy using 250 20-Way One Shot Learning: 60.8\n",
            "Final Validation Accuracy using 250 20-Way One Shot Learning: 56.0\n",
            "Final Validation Accuracy using 250 20-Way One Shot Learning: 57.2\n",
            "Final Validation Accuracy using 250 20-Way One Shot Learning: 55.2\n",
            "Final Validation Accuracy using 250 20-Way One Shot Learning: 56.8\n",
            "Final Validation Accuracy using 250 20-Way One Shot Learning: 62.8\n",
            "Final Validation Accuracy using 250 20-Way One Shot Learning: 58.8\n",
            "Final Validation Accuracy using 250 20-Way One Shot Learning: 57.2\n",
            "Final Validation Accuracy using 250 20-Way One Shot Learning: 60.4\n",
            "Final Validation Accuracy using 250 20-Way One Shot Learning: 57.2\n",
            "Final Validation Accuracy using 250 20-Way One Shot Learning: 59.6\n"
          ]
        }
      ]
    },
    {
      "cell_type": "code",
      "source": [
        "#testing for 5-way one shot learning\n",
        "\n",
        "for i in range(20):\n",
        "  print('Final Validation Accuracy using 250 20-Way One Shot Learning:', round(test_one_shot(bce_size_35,5,250,T) * 100,2))"
      ],
      "metadata": {
        "colab": {
          "base_uri": "https://localhost:8080/"
        },
        "id": "7KEN8fNt17EQ",
        "outputId": "1e0bc2a3-169c-4739-86ac-1ba6a39646f0"
      },
      "execution_count": null,
      "outputs": [
        {
          "output_type": "stream",
          "name": "stdout",
          "text": [
            "Final Validation Accuracy using 250 20-Way One Shot Learning: 72.8\n",
            "Final Validation Accuracy using 250 20-Way One Shot Learning: 69.6\n",
            "Final Validation Accuracy using 250 20-Way One Shot Learning: 70.4\n",
            "Final Validation Accuracy using 250 20-Way One Shot Learning: 69.2\n",
            "Final Validation Accuracy using 250 20-Way One Shot Learning: 68.4\n",
            "Final Validation Accuracy using 250 20-Way One Shot Learning: 70.0\n",
            "Final Validation Accuracy using 250 20-Way One Shot Learning: 63.2\n",
            "Final Validation Accuracy using 250 20-Way One Shot Learning: 71.2\n",
            "Final Validation Accuracy using 250 20-Way One Shot Learning: 65.6\n",
            "Final Validation Accuracy using 250 20-Way One Shot Learning: 70.4\n",
            "Final Validation Accuracy using 250 20-Way One Shot Learning: 68.8\n",
            "Final Validation Accuracy using 250 20-Way One Shot Learning: 72.4\n",
            "Final Validation Accuracy using 250 20-Way One Shot Learning: 71.2\n",
            "Final Validation Accuracy using 250 20-Way One Shot Learning: 68.0\n",
            "Final Validation Accuracy using 250 20-Way One Shot Learning: 72.4\n",
            "Final Validation Accuracy using 250 20-Way One Shot Learning: 72.8\n",
            "Final Validation Accuracy using 250 20-Way One Shot Learning: 69.2\n",
            "Final Validation Accuracy using 250 20-Way One Shot Learning: 66.0\n",
            "Final Validation Accuracy using 250 20-Way One Shot Learning: 72.8\n",
            "Final Validation Accuracy using 250 20-Way One Shot Learning: 70.4\n"
          ]
        }
      ]
    },
    {
      "cell_type": "code",
      "source": [
        "#testing for 3-way one shot learning\n",
        "\n",
        "for i in range(20):\n",
        "  print('Final Validation Accuracy using 250 20-Way One Shot Learning:', round(test_one_shot(bce_size_35,3,250,T) * 100,2))"
      ],
      "metadata": {
        "colab": {
          "base_uri": "https://localhost:8080/"
        },
        "id": "91K1mfMY2GtM",
        "outputId": "58cec62f-e768-427a-ee83-15001b61db12"
      },
      "execution_count": null,
      "outputs": [
        {
          "output_type": "stream",
          "name": "stdout",
          "text": [
            "Final Validation Accuracy using 250 20-Way One Shot Learning: 59.6\n",
            "Final Validation Accuracy using 250 20-Way One Shot Learning: 61.2\n",
            "Final Validation Accuracy using 250 20-Way One Shot Learning: 60.4\n",
            "Final Validation Accuracy using 250 20-Way One Shot Learning: 60.4\n",
            "Final Validation Accuracy using 250 20-Way One Shot Learning: 55.6\n",
            "Final Validation Accuracy using 250 20-Way One Shot Learning: 60.8\n",
            "Final Validation Accuracy using 250 20-Way One Shot Learning: 57.2\n",
            "Final Validation Accuracy using 250 20-Way One Shot Learning: 54.4\n",
            "Final Validation Accuracy using 250 20-Way One Shot Learning: 63.2\n",
            "Final Validation Accuracy using 250 20-Way One Shot Learning: 59.2\n",
            "Final Validation Accuracy using 250 20-Way One Shot Learning: 57.2\n",
            "Final Validation Accuracy using 250 20-Way One Shot Learning: 61.6\n",
            "Final Validation Accuracy using 250 20-Way One Shot Learning: 65.6\n",
            "Final Validation Accuracy using 250 20-Way One Shot Learning: 60.0\n",
            "Final Validation Accuracy using 250 20-Way One Shot Learning: 57.2\n",
            "Final Validation Accuracy using 250 20-Way One Shot Learning: 61.6\n",
            "Final Validation Accuracy using 250 20-Way One Shot Learning: 58.4\n",
            "Final Validation Accuracy using 250 20-Way One Shot Learning: 56.0\n",
            "Final Validation Accuracy using 250 20-Way One Shot Learning: 58.4\n",
            "Final Validation Accuracy using 250 20-Way One Shot Learning: 60.0\n"
          ]
        }
      ]
    },
    {
      "cell_type": "code",
      "source": [],
      "metadata": {
        "id": "oaF-iWHEh24T"
      },
      "execution_count": null,
      "outputs": []
    },
    {
      "cell_type": "code",
      "source": [
        "def create_dataset(img_folder):\n",
        "  X=[]\n",
        "  for dirl in os.listdir(img_folder):\n",
        "    t_folder = os.listdir(os.path.join(img_folder,dirl))\n",
        "    #print(t_folder)\n",
        "    cat =[]\n",
        "\n",
        "    for file in os.listdir(os.path.join(img_folder,dirl)):\n",
        "      image_path=os.path.join(img_folder,dirl,file)\n",
        "      img = Image.open(image_path)\n",
        "      img = img.resize((35,35))\n",
        "      img.save(image_path)\n",
        "        #image=cv2.imread(image_path,cv2.COLOR_BGR2RGB)\n",
        "      cat.append(cv2.cvtColor(cv2.imread(image_path),cv2.COLOR_BGR2GRAY))\n",
        "\n",
        "\n",
        "            #if any([file.endswith(x) for x in ['.jpeg', '.jpg']]):\n",
        "\n",
        "\n",
        "    X.append(cat)\n",
        "  X = np.array(X)\n",
        "\n",
        "\n",
        "  return X"
      ],
      "metadata": {
        "id": "kWmvuQKWh3CK"
      },
      "execution_count": null,
      "outputs": []
    },
    {
      "cell_type": "code",
      "source": [
        "\n",
        "from matplotlib import pyplot\n",
        "image_path = '/content/digit2.jpg'\n",
        "#img = Image.open(image_path)\n",
        "i = pyplot.imread(image_path)\n",
        "pyplot.imshow(i,cmap='gray')\n"
      ],
      "metadata": {
        "colab": {
          "base_uri": "https://localhost:8080/",
          "height": 282
        },
        "id": "iTFkeSs0cp3m",
        "outputId": "0b0adc72-ce80-4eab-a20e-9c9191bd5c3e"
      },
      "execution_count": null,
      "outputs": [
        {
          "output_type": "execute_result",
          "data": {
            "text/plain": [
              "<matplotlib.image.AxesImage at 0x7f0b044fc710>"
            ]
          },
          "metadata": {},
          "execution_count": 35
        },
        {
          "output_type": "display_data",
          "data": {
            "text/plain": [
              "<Figure size 432x288 with 1 Axes>"
            ],
            "image/png": "[encoded data removed]"
          },
          "metadata": {
            "needs_background": "light"
          }
        }
      ]
    },
    {
      "cell_type": "code",
      "source": [
        "img = cv2.imread(image_path)\n",
        "img = Image.open(image_path)\n",
        "re = img.resize((35,35))\n",
        "re.save(image_path)\n",
        "pyplot.figure()\n",
        "pyplot.imshow(re,cmap='gray')"
      ],
      "metadata": {
        "colab": {
          "base_uri": "https://localhost:8080/",
          "height": 283
        },
        "id": "7XKNxGH6c8wA",
        "outputId": "3e2a4ced-8dbd-4e7e-c310-612781f26533"
      },
      "execution_count": null,
      "outputs": [
        {
          "output_type": "execute_result",
          "data": {
            "text/plain": [
              "<matplotlib.image.AxesImage at 0x7f0b0446c250>"
            ]
          },
          "metadata": {},
          "execution_count": 36
        },
        {
          "output_type": "display_data",
          "data": {
            "text/plain": [
              "<Figure size 432x288 with 1 Axes>"
            ],
            "image/png": "[encoded data removed]"
          },
          "metadata": {
            "needs_background": "light"
          }
        }
      ]
    },
    {
      "cell_type": "code",
      "source": [
        "gray = cv2.cvtColor(cv2.imread(image_path),cv2.COLOR_BGR2GRAY)\n",
        "pyplot.figure()\n",
        "pyplot.imshow(gray,cmap='gray')"
      ],
      "metadata": {
        "colab": {
          "base_uri": "https://localhost:8080/",
          "height": 283
        },
        "id": "9p6lrK01dC37",
        "outputId": "7f10ef8f-5605-4b20-bae2-c18938a55967"
      },
      "execution_count": null,
      "outputs": [
        {
          "output_type": "execute_result",
          "data": {
            "text/plain": [
              "<matplotlib.image.AxesImage at 0x7f0b0445b110>"
            ]
          },
          "metadata": {},
          "execution_count": 37
        },
        {
          "output_type": "display_data",
          "data": {
            "text/plain": [
              "<Figure size 432x288 with 1 Axes>"
            ],
            "image/png": "[encoded data removed]"
          },
          "metadata": {
            "needs_background": "light"
          }
        }
      ]
    },
    {
      "cell_type": "code",
      "source": [
        "\n",
        "blurred = cv2.GaussianBlur(gray, (9, 9), 0)\n",
        "pyplot.figure()\n",
        "pyplot.imshow(gray,cmap='gray')\n"
      ],
      "metadata": {
        "colab": {
          "base_uri": "https://localhost:8080/",
          "height": 283
        },
        "id": "YhoS1JqxdEw8",
        "outputId": "d5b8d80e-e3fe-4f6d-c750-fd15a1658546"
      },
      "execution_count": null,
      "outputs": [
        {
          "output_type": "execute_result",
          "data": {
            "text/plain": [
              "<matplotlib.image.AxesImage at 0x7f0b043cb450>"
            ]
          },
          "metadata": {},
          "execution_count": 38
        },
        {
          "output_type": "display_data",
          "data": {
            "text/plain": [
              "<Figure size 432x288 with 1 Axes>"
            ],
            "image/png": "[encoded data removed]"
          },
          "metadata": {
            "needs_background": "light"
          }
        }
      ]
    },
    {
      "cell_type": "code",
      "source": [
        "(T, threshInv) = cv2.threshold(gray, 0, 255,\n",
        "\tcv2.THRESH_BINARY_INV | cv2.THRESH_OTSU)\n",
        "pyplot.figure()\n",
        "pyplot.imshow(threshInv,cmap='gray')\n",
        "\n",
        "im = Image.fromarray(threshInv)\n",
        "im.save(image_path)\n",
        "\n",
        "#threshInv.save(image_path)\n"
      ],
      "metadata": {
        "colab": {
          "base_uri": "https://localhost:8080/",
          "height": 266
        },
        "id": "GkC0SHENdHB9",
        "outputId": "1f457c34-e1ae-4175-c85a-cf1d51c6c084"
      },
      "execution_count": null,
      "outputs": [
        {
          "output_type": "display_data",
          "data": {
            "text/plain": [
              "<Figure size 432x288 with 1 Axes>"
            ],
            "image/png": "[encoded data removed]"
          },
          "metadata": {
            "needs_background": "light"
          }
        }
      ]
    },
    {
      "cell_type": "code",
      "source": [
        "img = cv2.imread(image_path)\n",
        "img = Image.open(image_path)\n",
        "#re = img.resize((35,35))\n",
        "#re.save(image_path)\n",
        "\n",
        "#img = cv2.imread(path)\n",
        "\n",
        "#plt.imshow(img)\n",
        "#plt.show()\n",
        "#i = pyplot.imread(image_path)\n",
        "#pyplot.imshow(i,cmap='gray')\n",
        "\n",
        "\n",
        "pyplot.figure()\n",
        "pyplot.imshow(re,cmap='gray')"
      ],
      "metadata": {
        "colab": {
          "base_uri": "https://localhost:8080/",
          "height": 283
        },
        "id": "u91AXEzre8ol",
        "outputId": "681141a5-031c-4224-8c34-e60fea31a8a9"
      },
      "execution_count": null,
      "outputs": [
        {
          "output_type": "execute_result",
          "data": {
            "text/plain": [
              "<matplotlib.image.AxesImage at 0x7f0b0458e550>"
            ]
          },
          "metadata": {},
          "execution_count": 34
        },
        {
          "output_type": "display_data",
          "data": {
            "text/plain": [
              "<Figure size 432x288 with 1 Axes>"
            ],
            "image/png": "[encoded data removed]"
          },
          "metadata": {
            "needs_background": "light"
          }
        }
      ]
    },
    {
      "cell_type": "code",
      "source": [
        "\n",
        "from matplotlib import pyplot\n",
        "image_path = '/content/digit2.jpg'\n",
        "#img = Image.open(image_path)\n",
        "i = pyplot.imread(image_path)\n",
        "pyplot.imshow(i,cmap='gray')"
      ],
      "metadata": {
        "id": "4SeOm7F-cqG7",
        "colab": {
          "base_uri": "https://localhost:8080/",
          "height": 282
        },
        "outputId": "9a67c06f-cb47-4f43-bb42-7dc5c852565d"
      },
      "execution_count": null,
      "outputs": [
        {
          "output_type": "execute_result",
          "data": {
            "text/plain": [
              "<matplotlib.image.AxesImage at 0x7fcfc9800690>"
            ]
          },
          "metadata": {},
          "execution_count": 52
        },
        {
          "output_type": "display_data",
          "data": {
            "text/plain": [
              "<Figure size 432x288 with 1 Axes>"
            ],
            "image/png": "[encoded data removed]"
          },
          "metadata": {
            "needs_background": "light"
          }
        }
      ]
    },
    {
      "cell_type": "code",
      "source": [
        "img = cv2.imread(image_path)\n",
        "img = Image.open(image_path)\n",
        "re = img.resize((35,35))\n",
        "re.save(image_path)\n",
        "pyplot.figure()\n",
        "pyplot.imshow(re,cmap='gray')"
      ],
      "metadata": {
        "colab": {
          "base_uri": "https://localhost:8080/",
          "height": 283
        },
        "id": "J3H77eRPH8yN",
        "outputId": "e968a6a4-95b7-4592-b11b-b7f4c7c7b4ca"
      },
      "execution_count": null,
      "outputs": [
        {
          "output_type": "execute_result",
          "data": {
            "text/plain": [
              "<matplotlib.image.AxesImage at 0x7fcfc6d93850>"
            ]
          },
          "metadata": {},
          "execution_count": 53
        },
        {
          "output_type": "display_data",
          "data": {
            "text/plain": [
              "<Figure size 432x288 with 1 Axes>"
            ],
            "image/png": "[encoded data removed]"
          },
          "metadata": {
            "needs_background": "light"
          }
        }
      ]
    },
    {
      "cell_type": "code",
      "source": [
        "gray = cv2.cvtColor(cv2.imread(image_path),cv2.COLOR_BGR2GRAY)\n",
        "pyplot.figure()\n",
        "pyplot.imshow(gray,cmap='gray')"
      ],
      "metadata": {
        "colab": {
          "base_uri": "https://localhost:8080/",
          "height": 283
        },
        "id": "EcTXftOhIE-i",
        "outputId": "173d211a-7f8f-4f8b-a681-b9bc95d51b34"
      },
      "execution_count": null,
      "outputs": [
        {
          "output_type": "execute_result",
          "data": {
            "text/plain": [
              "<matplotlib.image.AxesImage at 0x7fcfc6cd3a90>"
            ]
          },
          "metadata": {},
          "execution_count": 54
        },
        {
          "output_type": "display_data",
          "data": {
            "text/plain": [
              "<Figure size 432x288 with 1 Axes>"
            ],
            "image/png": "[encoded data removed]"
          },
          "metadata": {
            "needs_background": "light"
          }
        }
      ]
    },
    {
      "cell_type": "code",
      "source": [
        "for i in range(0, 3):\n",
        "  eroded = cv2.erode(gray.copy(), None, iterations=i + 1)\n",
        "  pyplot.figure()\n",
        "  pyplot.imshow(eroded,cmap='gray')\n",
        ""
      ],
      "metadata": {
        "colab": {
          "base_uri": "https://localhost:8080/",
          "height": 764
        },
        "id": "JbBqreQFQgCH",
        "outputId": "488fc0d2-9381-4989-97c0-87cfc9207661"
      },
      "execution_count": null,
      "outputs": [
        {
          "output_type": "display_data",
          "data": {
            "text/plain": [
              "<Figure size 432x288 with 1 Axes>"
            ],
            "image/png": "[encoded data removed]"
          },
          "metadata": {
            "needs_background": "light"
          }
        },
        {
          "output_type": "display_data",
          "data": {
            "text/plain": [
              "<Figure size 432x288 with 1 Axes>"
            ],
            "image/png": "[encoded data removed]"
          },
          "metadata": {
            "needs_background": "light"
          }
        },
        {
          "output_type": "display_data",
          "data": {
            "text/plain": [
              "<Figure size 432x288 with 1 Axes>"
            ],
            "image/png": "[encoded data removed]"
          },
          "metadata": {
            "needs_background": "light"
          }
        }
      ]
    },
    {
      "cell_type": "code",
      "source": [
        "(T, threshInv) = cv2.threshold(gray, 0, 255,\n",
        "\tcv2.THRESH_BINARY_INV | cv2.THRESH_OTSU)\n",
        "pyplot.figure()\n",
        "pyplot.imshow(threshInv,cmap='gray')\n",
        "\n",
        "#im = Image.fromarray(threshInv)\n",
        "#im.save(image_path)"
      ],
      "metadata": {
        "colab": {
          "base_uri": "https://localhost:8080/",
          "height": 283
        },
        "id": "_HLjFb4kIIzj",
        "outputId": "e7eed3e7-d976-417f-daeb-7f414206024a"
      },
      "execution_count": null,
      "outputs": [
        {
          "output_type": "execute_result",
          "data": {
            "text/plain": [
              "<matplotlib.image.AxesImage at 0x7fcfc70e8950>"
            ]
          },
          "metadata": {},
          "execution_count": 63
        },
        {
          "output_type": "display_data",
          "data": {
            "text/plain": [
              "<Figure size 432x288 with 1 Axes>"
            ],
            "image/png": "[encoded data removed]"
          },
          "metadata": {
            "needs_background": "light"
          }
        }
      ]
    },
    {
      "cell_type": "code",
      "source": [
        "kernel = np.ones((2,2), np.uint8)\n",
        "img_dilation = cv2.dilate(threshInv, kernel, iterations=1)\n",
        "pyplot.figure()\n",
        "pyplot.imshow(img_dilation,cmap='gray')"
      ],
      "metadata": {
        "colab": {
          "base_uri": "https://localhost:8080/",
          "height": 283
        },
        "id": "acp-GnwYR3UN",
        "outputId": "ab19b5df-8087-47f5-ab4b-cfa36a149802"
      },
      "execution_count": null,
      "outputs": [
        {
          "output_type": "execute_result",
          "data": {
            "text/plain": [
              "<matplotlib.image.AxesImage at 0x7fcfc6b6b810>"
            ]
          },
          "metadata": {},
          "execution_count": 64
        },
        {
          "output_type": "display_data",
          "data": {
            "text/plain": [
              "<Figure size 432x288 with 1 Axes>"
            ],
            "image/png": "[encoded data removed]"
          },
          "metadata": {
            "needs_background": "light"
          }
        }
      ]
    },
    {
      "cell_type": "code",
      "source": [
        "kernel = np.ones((2,2), np.uint8)\n",
        "img_erosion = cv2.erode(gray.copy(), kernel, iterations=1)\n",
        "pyplot.figure()\n",
        "pyplot.imshow(img_erosion,cmap='gray')\n",
        ""
      ],
      "metadata": {
        "colab": {
          "base_uri": "https://localhost:8080/",
          "height": 283
        },
        "id": "I7VlFMFRQtaK",
        "outputId": "023612f2-5eed-4809-b39c-8ab58dbbd9f7"
      },
      "execution_count": null,
      "outputs": [
        {
          "output_type": "execute_result",
          "data": {
            "text/plain": [
              "<matplotlib.image.AxesImage at 0x7fcfc9437190>"
            ]
          },
          "metadata": {},
          "execution_count": 61
        },
        {
          "output_type": "display_data",
          "data": {
            "text/plain": [
              "<Figure size 432x288 with 1 Axes>"
            ],
            "image/png": "[encoded data removed]"
          },
          "metadata": {
            "needs_background": "light"
          }
        }
      ]
    },
    {
      "cell_type": "code",
      "source": [
        "(T, threshInv) = cv2.threshold(img_erosion, 0, 255,\n",
        "\tcv2.THRESH_BINARY_INV | cv2.THRESH_OTSU)\n",
        "pyplot.figure()\n",
        "pyplot.imshow(threshInv,cmap='gray')"
      ],
      "metadata": {
        "colab": {
          "base_uri": "https://localhost:8080/",
          "height": 283
        },
        "id": "o2Jj-XqOREF6",
        "outputId": "5aaf14c5-d08d-45d7-9084-348df75c425e"
      },
      "execution_count": null,
      "outputs": [
        {
          "output_type": "execute_result",
          "data": {
            "text/plain": [
              "<matplotlib.image.AxesImage at 0x7fcfc94ee6d0>"
            ]
          },
          "metadata": {},
          "execution_count": 62
        },
        {
          "output_type": "display_data",
          "data": {
            "text/plain": [
              "<Figure size 432x288 with 1 Axes>"
            ],
            "image/png": "[encoded data removed]"
          },
          "metadata": {
            "needs_background": "light"
          }
        }
      ]
    },
    {
      "cell_type": "code",
      "source": [
        "for i in range(0, 3):\n",
        "  eroded = cv2.erode(gray.copy(), None, iterations=i + 1)\n",
        "  pyplot.figure()\n",
        "  pyplot.imshow(eroded,cmap='gray')\n",
        "\n"
      ],
      "metadata": {
        "colab": {
          "base_uri": "https://localhost:8080/",
          "height": 764
        },
        "id": "qf2Djn_IIMSB",
        "outputId": "137271a0-077d-40df-f247-42281cd2644f"
      },
      "execution_count": null,
      "outputs": [
        {
          "output_type": "display_data",
          "data": {
            "text/plain": [
              "<Figure size 432x288 with 1 Axes>"
            ],
            "image/png": "[encoded data removed]"
          },
          "metadata": {
            "needs_background": "light"
          }
        },
        {
          "output_type": "display_data",
          "data": {
            "text/plain": [
              "<Figure size 432x288 with 1 Axes>"
            ],
            "image/png": "[encoded data removed]"
          },
          "metadata": {
            "needs_background": "light"
          }
        },
        {
          "output_type": "display_data",
          "data": {
            "text/plain": [
              "<Figure size 432x288 with 1 Axes>"
            ],
            "image/png": "[encoded data removed]"
          },
          "metadata": {
            "needs_background": "light"
          }
        }
      ]
    },
    {
      "cell_type": "code",
      "source": [
        "eroded = cv2.erode(gray.copy(), None, iterations=1)\n",
        "pyplot.figure()\n",
        "pyplot.imshow(eroded,cmap='gray')"
      ],
      "metadata": {
        "colab": {
          "base_uri": "https://localhost:8080/",
          "height": 283
        },
        "id": "d-wGtYJCI3Do",
        "outputId": "e3c9e8b7-1be0-4cfc-cac0-3ff53dea2948"
      },
      "execution_count": null,
      "outputs": [
        {
          "output_type": "execute_result",
          "data": {
            "text/plain": [
              "<matplotlib.image.AxesImage at 0x7fcfca00e950>"
            ]
          },
          "metadata": {},
          "execution_count": 23
        },
        {
          "output_type": "display_data",
          "data": {
            "text/plain": [
              "<Figure size 432x288 with 1 Axes>"
            ],
            "image/png": "[encoded data removed]"
          },
          "metadata": {
            "needs_background": "light"
          }
        }
      ]
    },
    {
      "cell_type": "code",
      "source": [
        "(T, threshInv) = cv2.threshold(eroded, 0, 255,\n",
        "\tcv2.THRESH_BINARY_INV | cv2.THRESH_OTSU)\n",
        "pyplot.figure()\n",
        "pyplot.imshow(threshInv,cmap='gray')"
      ],
      "metadata": {
        "colab": {
          "base_uri": "https://localhost:8080/",
          "height": 283
        },
        "id": "rYWhqSf0JY8U",
        "outputId": "d7a8cbb3-3a09-4959-82b0-fba7e78feaeb"
      },
      "execution_count": null,
      "outputs": [
        {
          "output_type": "execute_result",
          "data": {
            "text/plain": [
              "<matplotlib.image.AxesImage at 0x7fcfca1a41d0>"
            ]
          },
          "metadata": {},
          "execution_count": 24
        },
        {
          "output_type": "display_data",
          "data": {
            "text/plain": [
              "<Figure size 432x288 with 1 Axes>"
            ],
            "image/png": "[encoded data removed]"
          },
          "metadata": {
            "needs_background": "light"
          }
        }
      ]
    },
    {
      "cell_type": "code",
      "source": [
        "kernel = np.ones((2,2), np.uint8)\n",
        "img_dilation = cv2.erode(gray, kernel, iterations=1)\n",
        "pyplot.figure()\n",
        "pyplot.imshow(img_dilation,cmap='gray')"
      ],
      "metadata": {
        "colab": {
          "base_uri": "https://localhost:8080/",
          "height": 283
        },
        "id": "Dht63M6GJv9f",
        "outputId": "5c775423-acd0-4796-b15c-98d3a0daa0bd"
      },
      "execution_count": null,
      "outputs": [
        {
          "output_type": "execute_result",
          "data": {
            "text/plain": [
              "<matplotlib.image.AxesImage at 0x7fcfc6da85d0>"
            ]
          },
          "metadata": {},
          "execution_count": 49
        },
        {
          "output_type": "display_data",
          "data": {
            "text/plain": [
              "<Figure size 432x288 with 1 Axes>"
            ],
            "image/png": "[encoded data removed]"
          },
          "metadata": {
            "needs_background": "light"
          }
        }
      ]
    },
    {
      "cell_type": "code",
      "source": [
        "(T, threshInv) = cv2.threshold(img_dilation, 0, 255,\n",
        "\tcv2.THRESH_BINARY_INV | cv2.THRESH_OTSU)\n",
        "pyplot.figure()\n",
        "pyplot.imshow(threshInv,cmap='gray')"
      ],
      "metadata": {
        "colab": {
          "base_uri": "https://localhost:8080/",
          "height": 283
        },
        "id": "pLkA5WSyKSLg",
        "outputId": "cd7be651-a7e3-4a4e-f76d-2f59bd16f4b7"
      },
      "execution_count": null,
      "outputs": [
        {
          "output_type": "execute_result",
          "data": {
            "text/plain": [
              "<matplotlib.image.AxesImage at 0x7fcfc941fcd0>"
            ]
          },
          "metadata": {},
          "execution_count": 50
        },
        {
          "output_type": "display_data",
          "data": {
            "text/plain": [
              "<Figure size 432x288 with 1 Axes>"
            ],
            "image/png": "[encoded data removed]"
          },
          "metadata": {
            "needs_background": "light"
          }
        }
      ]
    },
    {
      "cell_type": "code",
      "source": [
        "#testing for 10-way one shot learning\n",
        "\n",
        "for i in range(20):\n",
        "  print('Final Validation Accuracy using 250 20-Way One Shot Learning:', round(test_one_shot(bce_size_35,10,250,T) * 100,2))"
      ],
      "metadata": {
        "colab": {
          "base_uri": "https://localhost:8080/"
        },
        "id": "yjDDlFUTnsx9",
        "outputId": "b4cbf583-243b-480f-accb-94301e8227f5"
      },
      "execution_count": null,
      "outputs": [
        {
          "output_type": "stream",
          "name": "stdout",
          "text": [
            "Final Validation Accuracy using 250 20-Way One Shot Learning: 53.6\n",
            "Final Validation Accuracy using 250 20-Way One Shot Learning: 59.6\n",
            "Final Validation Accuracy using 250 20-Way One Shot Learning: 54.4\n",
            "Final Validation Accuracy using 250 20-Way One Shot Learning: 56.8\n",
            "Final Validation Accuracy using 250 20-Way One Shot Learning: 52.4\n",
            "Final Validation Accuracy using 250 20-Way One Shot Learning: 54.0\n",
            "Final Validation Accuracy using 250 20-Way One Shot Learning: 58.4\n",
            "Final Validation Accuracy using 250 20-Way One Shot Learning: 60.0\n",
            "Final Validation Accuracy using 250 20-Way One Shot Learning: 58.0\n",
            "Final Validation Accuracy using 250 20-Way One Shot Learning: 58.4\n",
            "Final Validation Accuracy using 250 20-Way One Shot Learning: 49.2\n",
            "Final Validation Accuracy using 250 20-Way One Shot Learning: 55.2\n",
            "Final Validation Accuracy using 250 20-Way One Shot Learning: 55.6\n",
            "Final Validation Accuracy using 250 20-Way One Shot Learning: 53.2\n",
            "Final Validation Accuracy using 250 20-Way One Shot Learning: 57.2\n",
            "Final Validation Accuracy using 250 20-Way One Shot Learning: 56.0\n",
            "Final Validation Accuracy using 250 20-Way One Shot Learning: 58.0\n",
            "Final Validation Accuracy using 250 20-Way One Shot Learning: 50.8\n",
            "Final Validation Accuracy using 250 20-Way One Shot Learning: 60.4\n",
            "Final Validation Accuracy using 250 20-Way One Shot Learning: 56.8\n"
          ]
        }
      ]
    },
    {
      "cell_type": "code",
      "source": [
        "#testing for 5-way one shot learning\n",
        "\n",
        "for i in range(20):\n",
        "  print('Final Validation Accuracy using 250 20-Way One Shot Learning:', round(test_one_shot(bce_size_35,5,250,T) * 100,2))"
      ],
      "metadata": {
        "colab": {
          "base_uri": "https://localhost:8080/"
        },
        "id": "xFxvnXz1n2VZ",
        "outputId": "a8d2c033-d969-48f6-e502-575e15775f2e"
      },
      "execution_count": null,
      "outputs": [
        {
          "output_type": "stream",
          "name": "stdout",
          "text": [
            "Final Validation Accuracy using 250 20-Way One Shot Learning: 66.4\n",
            "Final Validation Accuracy using 250 20-Way One Shot Learning: 71.2\n",
            "Final Validation Accuracy using 250 20-Way One Shot Learning: 72.8\n",
            "Final Validation Accuracy using 250 20-Way One Shot Learning: 60.4\n",
            "Final Validation Accuracy using 250 20-Way One Shot Learning: 66.4\n",
            "Final Validation Accuracy using 250 20-Way One Shot Learning: 71.2\n",
            "Final Validation Accuracy using 250 20-Way One Shot Learning: 66.8\n",
            "Final Validation Accuracy using 250 20-Way One Shot Learning: 69.2\n",
            "Final Validation Accuracy using 250 20-Way One Shot Learning: 66.8\n",
            "Final Validation Accuracy using 250 20-Way One Shot Learning: 64.4\n",
            "Final Validation Accuracy using 250 20-Way One Shot Learning: 68.0\n",
            "Final Validation Accuracy using 250 20-Way One Shot Learning: 72.0\n",
            "Final Validation Accuracy using 250 20-Way One Shot Learning: 63.2\n",
            "Final Validation Accuracy using 250 20-Way One Shot Learning: 65.2\n",
            "Final Validation Accuracy using 250 20-Way One Shot Learning: 66.4\n",
            "Final Validation Accuracy using 250 20-Way One Shot Learning: 71.2\n",
            "Final Validation Accuracy using 250 20-Way One Shot Learning: 66.4\n",
            "Final Validation Accuracy using 250 20-Way One Shot Learning: 68.0\n",
            "Final Validation Accuracy using 250 20-Way One Shot Learning: 70.8\n",
            "Final Validation Accuracy using 250 20-Way One Shot Learning: 66.0\n"
          ]
        }
      ]
    },
    {
      "cell_type": "code",
      "source": [
        "\n",
        "from matplotlib import pyplot\n",
        "image_path = '/content/char1.jpg'\n",
        "#img = Image.open(image_path)\n",
        "i = pyplot.imread(image_path)\n",
        "pyplot.imshow(i,cmap='gray')\n"
      ],
      "metadata": {
        "colab": {
          "base_uri": "https://localhost:8080/",
          "height": 285
        },
        "id": "MuQboTErVDaR",
        "outputId": "1a4f0504-feb0-4033-cb29-a1624ed499f3"
      },
      "execution_count": null,
      "outputs": [
        {
          "output_type": "execute_result",
          "data": {
            "text/plain": [
              "<matplotlib.image.AxesImage at 0x7fcfc7179350>"
            ]
          },
          "metadata": {},
          "execution_count": 71
        },
        {
          "output_type": "display_data",
          "data": {
            "text/plain": [
              "<Figure size 432x288 with 1 Axes>"
            ],
            "image/png": "[encoded data removed]"
          },
          "metadata": {
            "needs_background": "light"
          }
        }
      ]
    },
    {
      "cell_type": "code",
      "source": [
        "img = cv2.imread(image_path)\n",
        "img = Image.open(image_path)\n",
        "re = img.resize((64,64))\n",
        "re.save(image_path)\n",
        "pyplot.figure()\n",
        "pyplot.imshow(re,cmap='gray')"
      ],
      "metadata": {
        "colab": {
          "base_uri": "https://localhost:8080/",
          "height": 285
        },
        "id": "zIxqzekUVXHG",
        "outputId": "ec36c705-4cc5-404e-f9c7-2c3bd6b5a5b1"
      },
      "execution_count": null,
      "outputs": [
        {
          "output_type": "execute_result",
          "data": {
            "text/plain": [
              "<matplotlib.image.AxesImage at 0x7fcfc70cf250>"
            ]
          },
          "metadata": {},
          "execution_count": 72
        },
        {
          "output_type": "display_data",
          "data": {
            "text/plain": [
              "<Figure size 432x288 with 1 Axes>"
            ],
            "image/png": "[encoded data removed]"
          },
          "metadata": {
            "needs_background": "light"
          }
        }
      ]
    },
    {
      "cell_type": "code",
      "source": [
        "gray = cv2.cvtColor(cv2.imread(image_path),cv2.COLOR_BGR2GRAY)\n",
        "pyplot.figure()\n",
        "pyplot.imshow(gray,cmap='gray')"
      ],
      "metadata": {
        "colab": {
          "base_uri": "https://localhost:8080/",
          "height": 285
        },
        "id": "WblnINiTV3Kr",
        "outputId": "6518dd08-eb72-4e5f-8a18-878a125f1517"
      },
      "execution_count": null,
      "outputs": [
        {
          "output_type": "execute_result",
          "data": {
            "text/plain": [
              "<matplotlib.image.AxesImage at 0x7fcfc6d39e50>"
            ]
          },
          "metadata": {},
          "execution_count": 75
        },
        {
          "output_type": "display_data",
          "data": {
            "text/plain": [
              "<Figure size 432x288 with 1 Axes>"
            ],
            "image/png": "[encoded data removed]"
          },
          "metadata": {
            "needs_background": "light"
          }
        }
      ]
    },
    {
      "cell_type": "code",
      "source": [
        "kernel = np.ones((3,3), np.uint8)\n",
        "img_dilation = cv2.erode(gray, kernel, iterations=1)\n",
        "pyplot.figure()\n",
        "pyplot.imshow(img_dilation,cmap='gray')"
      ],
      "metadata": {
        "colab": {
          "base_uri": "https://localhost:8080/",
          "height": 285
        },
        "id": "ZrQM6AX0Vb0W",
        "outputId": "0f2bee48-6e06-4936-acab-1ff627f04a97"
      },
      "execution_count": null,
      "outputs": [
        {
          "output_type": "execute_result",
          "data": {
            "text/plain": [
              "<matplotlib.image.AxesImage at 0x7fcfc98b3390>"
            ]
          },
          "metadata": {},
          "execution_count": 85
        },
        {
          "output_type": "display_data",
          "data": {
            "text/plain": [
              "<Figure size 432x288 with 1 Axes>"
            ],
            "image/png": "[encoded data removed]"
          },
          "metadata": {
            "needs_background": "light"
          }
        }
      ]
    },
    {
      "cell_type": "code",
      "source": [
        "(T, threshInv) = cv2.threshold(img_dilation, 0, 255,\n",
        "\tcv2.THRESH_BINARY | cv2.THRESH_OTSU)\n",
        "pyplot.figure()\n",
        "pyplot.imshow(threshInv,cmap='gray')"
      ],
      "metadata": {
        "colab": {
          "base_uri": "https://localhost:8080/",
          "height": 285
        },
        "id": "wfhQ8r6pV-Ot",
        "outputId": "fbaae682-e5bb-456f-ce35-0f42542e6baa"
      },
      "execution_count": null,
      "outputs": [
        {
          "output_type": "execute_result",
          "data": {
            "text/plain": [
              "<matplotlib.image.AxesImage at 0x7fcfc983c8d0>"
            ]
          },
          "metadata": {},
          "execution_count": 86
        },
        {
          "output_type": "display_data",
          "data": {
            "text/plain": [
              "<Figure size 432x288 with 1 Axes>"
            ],
            "image/png": "[encoded data removed]"
          },
          "metadata": {
            "needs_background": "light"
          }
        }
      ]
    }
  ]
}